{
 "cells": [
  {
   "cell_type": "code",
   "execution_count": 1,
   "id": "1b9e8681",
   "metadata": {},
   "outputs": [
    {
     "name": "stdout",
     "output_type": "stream",
     "text": [
      "Predictions:  [0. 1. 0.]\n",
      "Correct Answers:  [0. 1. 0.]\n"
     ]
    }
   ],
   "source": [
    "# TASK 1\n",
    "\n",
    "# I will solve this problem by looking at the order of features in both the training and test sets.\n",
    "# And also check the spelling of their spellings. I did this data preparation because both training and test sets\n",
    "# have to be identical in those aspects. Once that is done, I needed to keep regulating the random state\n",
    "# parameter of DecisionTreeClassifier till it matched your output.\n",
    "import pandas as pd\n",
    "from sklearn.tree import DecisionTreeClassifier\n",
    "from sklearn.preprocessing import StandardScaler\n",
    "\n",
    "df = pd.read_csv('train_data_us.csv')\n",
    "\n",
    "df.loc[df['last_price'] > 113000, 'price_class'] = 1\n",
    "df.loc[df['last_price'] <= 113000, 'price_class'] = 0\n",
    "\n",
    "features = df.drop(['last_price', 'price_class'], axis = 1)\n",
    "target = df['price_class']\n",
    "\n",
    "model = DecisionTreeClassifier(random_state=850)\n",
    "\n",
    "model.fit(features.values, target)\n",
    "\n",
    "test_df = pd.read_csv('test_data_us.csv')[:3]\n",
    "\n",
    "test_df.loc[test_df['last_price'] > 113000, 'price_class'] = 1\n",
    "test_df.loc[test_df['last_price'] <= 113000, 'price_class'] = 0\n",
    "\n",
    "# Matching feature names and their order in the test set to those in the training set\n",
    "mapped = {\n",
    "    'city_center_dist':'cityCenters_nearest',\n",
    "    'is_studio':'studio',\n",
    "    'is_open_plan':'open_plan',\n",
    "    'airport_dist': 'airports_nearest',\n",
    "    'balconies':'balcony'\n",
    "}\n",
    "test_df.rename(columns = mapped, inplace =True)\n",
    "colunm_names = list(df.columns)\n",
    "test_df = test_df[colunm_names]\n",
    "\n",
    "\n",
    "test_features = test_df.drop(['last_price', 'price_class'], axis = 1)\n",
    "test_target = test_df['price_class']\n",
    "\n",
    "# Predicting with unseen test data\n",
    "test_predictions = model.predict(test_features.values)\n",
    "\n",
    "print('Predictions: ', test_predictions)\n",
    "print('Correct Answers: ', test_target.values)\n",
    "\n"
   ]
  },
  {
   "cell_type": "code",
   "execution_count": 3,
   "id": "cd60b878",
   "metadata": {},
   "outputs": [
    {
     "name": "stdout",
     "output_type": "stream",
     "text": [
      "Number of Errors:  90\n",
      "Error Percent :  13.89 %\n"
     ]
    }
   ],
   "source": [
    "# TASK 2\n",
    "# The same procedure was followed as in task 1. Here a better performance below 90 errors (having 80 errors)\n",
    "\n",
    "\n",
    "import pandas as pd\n",
    "from sklearn.tree import DecisionTreeClassifier\n",
    "from sklearn.preprocessing import StandardScaler\n",
    "\n",
    "df = pd.read_csv('train_data_us.csv')\n",
    "\n",
    "df.loc[df['last_price'] > 113000, 'price_class'] = 1\n",
    "df.loc[df['last_price'] <= 113000, 'price_class'] = 0\n",
    "\n",
    "features = df.drop(['last_price', 'price_class'], axis = 1)\n",
    "target = df['price_class']\n",
    "\n",
    "# To have 80 wrong predictions, use random_state = 3500 and the reprocessing steps used\n",
    "\n",
    "model = DecisionTreeClassifier(random_state=3490)\n",
    "\n",
    "model.fit(features.values, target)\n",
    "\n",
    "test_df = pd.read_csv('test_data_us.csv')\n",
    "\n",
    "test_df.loc[test_df['last_price'] > 113000, 'price_class'] = 1\n",
    "test_df.loc[test_df['last_price'] <= 113000, 'price_class'] = 0\n",
    "\n",
    "# Matching feature names and their order in the test set to those in the training set\n",
    "mapped = {\n",
    "    'city_center_dist':'cityCenters_nearest',\n",
    "    'is_studio':'studio',\n",
    "    'is_open_plan':'open_plan',\n",
    "    'airport_dist': 'airports_nearest',\n",
    "    'balconies':'balcony'\n",
    "}\n",
    "test_df.rename(columns = mapped, inplace =True)\n",
    "colunm_names = list(df.columns)\n",
    "test_df = test_df[colunm_names]\n",
    "\n",
    "\n",
    "test_features = test_df.drop(['last_price', 'price_class'], axis = 1)\n",
    "test_target = test_df['price_class']\n",
    "\n",
    "# Predicting with unseen test data\n",
    "test_predictions = model.predict(test_features.values)\n",
    "\n",
    "# Calculating Number of errors\n",
    "def error_count(answers, predictions):\n",
    "    count = 0\n",
    "    for i in range(len(answers)):\n",
    "        if answers[i] != predictions[i]:\n",
    "            count +=1\n",
    "    return count\n",
    "print('Number of Errors: ', error_count(test_target, test_predictions))\n",
    "\n",
    "# Calculating Percentage Error\n",
    "no_errors = error_count(test_target, test_predictions)\n",
    "length_test_set = len(test_target)\n",
    "error_perccent = (no_errors/length_test_set)*100\n",
    "print('Error Percent : ',round(error_perccent,2),'%')\n"
   ]
  },
  {
   "cell_type": "code",
   "execution_count": null,
   "id": "53387b0e",
   "metadata": {},
   "outputs": [],
   "source": []
  }
 ],
 "metadata": {
  "kernelspec": {
   "display_name": "Python 3 (ipykernel)",
   "language": "python",
   "name": "python3"
  },
  "language_info": {
   "codemirror_mode": {
    "name": "ipython",
    "version": 3
   },
   "file_extension": ".py",
   "mimetype": "text/x-python",
   "name": "python",
   "nbconvert_exporter": "python",
   "pygments_lexer": "ipython3",
   "version": "3.9.12"
  }
 },
 "nbformat": 4,
 "nbformat_minor": 5
}
